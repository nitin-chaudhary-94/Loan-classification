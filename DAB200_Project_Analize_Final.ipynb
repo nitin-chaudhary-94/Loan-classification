{
  "nbformat": 4,
  "nbformat_minor": 0,
  "metadata": {
    "colab": {
      "provenance": []
    },
    "kernelspec": {
      "name": "python3",
      "display_name": "Python 3"
    },
    "language_info": {
      "name": "python"
    }
  },
  "cells": [
    {
      "cell_type": "markdown",
      "source": [
        "#This code snippet imports libraries for data preprocessing:\n",
        "- Pandas for data manipulation.\n",
        "- 'LabelEncoder' for categorical label conversion.\n",
        "- 'StandardScaler' for feature standardization.\n",
        "- 'train_test_split' for data separation.\n"
      ],
      "metadata": {
        "id": "PBBXspTc3Nku"
      }
    },
    {
      "cell_type": "code",
      "execution_count": 13,
      "metadata": {
        "id": "y8VyXEluVVPZ"
      },
      "outputs": [],
      "source": [
        "import pandas as pd\n",
        "from sklearn.preprocessing import LabelEncoder, StandardScaler\n",
        "from sklearn.model_selection import train_test_split"
      ]
    },
    {
      "cell_type": "markdown",
      "source": [
        "# Load the dataset\n",
        "This code snippet loads a dataset using Pandas:\n",
        "- 'df' is a variable used to store the loaded data.\n",
        "- 'pd.read_csv()' is a Pandas function used to read a CSV file.\n",
        "- The file path \"/content/drive/MyDrive/Datasets/loan_cleaned.csv\" specifies the location of the CSV file being read.\n"
      ],
      "metadata": {
        "id": "QMX3fy1G3XD_"
      }
    },
    {
      "cell_type": "code",
      "source": [
        "# Load the dataset\n",
        "df = pd.read_csv(\"/content/drive/MyDrive/Datasets/loan_cleaned.csv\")"
      ],
      "metadata": {
        "colab": {
          "base_uri": "https://localhost:8080/"
        },
        "id": "-yfb4EQpVvRl",
        "outputId": "eba82fbb-9c78-4b23-e7bb-14069ae8117f"
      },
      "execution_count": 14,
      "outputs": [
        {
          "output_type": "stream",
          "name": "stderr",
          "text": [
            "<ipython-input-14-a59f968d5493>:2: DtypeWarning: Columns (40) have mixed types. Specify dtype option on import or set low_memory=False.\n",
            "  df = pd.read_csv(\"/content/drive/MyDrive/Datasets/loan_cleaned.csv\")\n"
          ]
        }
      ]
    },
    {
      "cell_type": "markdown",
      "source": [
        "#df.shape\n",
        "\n",
        "This code snippet retrieves the shape of the DataFrame 'df':\n",
        "- The 'shape' attribute of a DataFrame returns a tuple representing its dimensions (rows, columns).\n",
        "- Running this code provides the number of rows and columns present in the DataFrame.\n"
      ],
      "metadata": {
        "id": "4mOcLl683bhS"
      }
    },
    {
      "cell_type": "code",
      "source": [
        "df.shape"
      ],
      "metadata": {
        "colab": {
          "base_uri": "https://localhost:8080/"
        },
        "id": "Qigo-yPSWJ6q",
        "outputId": "56dba64d-7de2-42d8-edc3-970691452627"
      },
      "execution_count": 15,
      "outputs": [
        {
          "output_type": "execute_result",
          "data": {
            "text/plain": [
              "(39717, 41)"
            ]
          },
          "metadata": {},
          "execution_count": 15
        }
      ]
    },
    {
      "cell_type": "markdown",
      "source": [
        "# df.head()\n",
        "\n",
        "This code snippet displays the top rows of the DataFrame 'df':\n",
        "- The 'head()' function of a DataFrame is used to view the first few rows.\n",
        "- By default, it shows the first 5 rows, providing a quick overview of the data's structure and contents."
      ],
      "metadata": {
        "id": "qI8ws5Cj3m9r"
      }
    },
    {
      "cell_type": "code",
      "source": [
        "df.head()"
      ],
      "metadata": {
        "colab": {
          "base_uri": "https://localhost:8080/",
          "height": 420
        },
        "id": "TGoQVE1gWYbK",
        "outputId": "6d874db1-2ae3-4a11-d831-e79aa1884c79"
      },
      "execution_count": 16,
      "outputs": [
        {
          "output_type": "execute_result",
          "data": {
            "text/plain": [
              "   loan_amnt  funded_amnt  funded_amnt_inv        term  int_rate  installment  \\\n",
              "0       5000         5000           4975.0   36 months     10.65       162.87   \n",
              "1       2500         2500           2500.0   60 months     15.27        59.83   \n",
              "2       2400         2400           2400.0   36 months     15.96        84.33   \n",
              "3      10000        10000          10000.0   36 months     13.49       339.31   \n",
              "4       3000         3000           3000.0   60 months     12.69        67.79   \n",
              "\n",
              "  grade sub_grade                 emp_title  emp_length  ... total_pymnt_inv  \\\n",
              "0     B        B2                       NaN          10  ...         5833.84   \n",
              "1     C        C4                     Ryder           1  ...         1008.71   \n",
              "2     C        C5                       NaN          10  ...         3005.67   \n",
              "3     C        C1       AIR RESOURCES BOARD          10  ...        12231.89   \n",
              "4     B        B5  University Medical Group           1  ...         3513.33   \n",
              "\n",
              "   total_rec_prncp total_rec_int total_rec_late_fee recoveries  \\\n",
              "0          5000.00        863.16               0.00       0.00   \n",
              "1           456.46        435.17               0.00     117.08   \n",
              "2          2400.00        605.67               0.00       0.00   \n",
              "3         10000.00       2214.92              16.97       0.00   \n",
              "4          2475.94       1037.39               0.00       0.00   \n",
              "\n",
              "  collection_recovery_fee last_pymnt_d last_pymnt_amnt last_credit_pull_d  \\\n",
              "0                    0.00       Jan-15          171.62             May-16   \n",
              "1                    1.11       Apr-13          119.66             Sep-13   \n",
              "2                    0.00       Jun-14          649.91             May-16   \n",
              "3                    0.00       Jan-15          357.48             Apr-16   \n",
              "4                    0.00       May-16           67.79             May-16   \n",
              "\n",
              "   pub_rec_bankruptcies  \n",
              "0                   0.0  \n",
              "1                   0.0  \n",
              "2                   0.0  \n",
              "3                   0.0  \n",
              "4                   0.0  \n",
              "\n",
              "[5 rows x 41 columns]"
            ],
            "text/html": [
              "\n",
              "\n",
              "  <div id=\"df-048279de-93d9-4908-b5a6-e6af25ae59c5\">\n",
              "    <div class=\"colab-df-container\">\n",
              "      <div>\n",
              "<style scoped>\n",
              "    .dataframe tbody tr th:only-of-type {\n",
              "        vertical-align: middle;\n",
              "    }\n",
              "\n",
              "    .dataframe tbody tr th {\n",
              "        vertical-align: top;\n",
              "    }\n",
              "\n",
              "    .dataframe thead th {\n",
              "        text-align: right;\n",
              "    }\n",
              "</style>\n",
              "<table border=\"1\" class=\"dataframe\">\n",
              "  <thead>\n",
              "    <tr style=\"text-align: right;\">\n",
              "      <th></th>\n",
              "      <th>loan_amnt</th>\n",
              "      <th>funded_amnt</th>\n",
              "      <th>funded_amnt_inv</th>\n",
              "      <th>term</th>\n",
              "      <th>int_rate</th>\n",
              "      <th>installment</th>\n",
              "      <th>grade</th>\n",
              "      <th>sub_grade</th>\n",
              "      <th>emp_title</th>\n",
              "      <th>emp_length</th>\n",
              "      <th>...</th>\n",
              "      <th>total_pymnt_inv</th>\n",
              "      <th>total_rec_prncp</th>\n",
              "      <th>total_rec_int</th>\n",
              "      <th>total_rec_late_fee</th>\n",
              "      <th>recoveries</th>\n",
              "      <th>collection_recovery_fee</th>\n",
              "      <th>last_pymnt_d</th>\n",
              "      <th>last_pymnt_amnt</th>\n",
              "      <th>last_credit_pull_d</th>\n",
              "      <th>pub_rec_bankruptcies</th>\n",
              "    </tr>\n",
              "  </thead>\n",
              "  <tbody>\n",
              "    <tr>\n",
              "      <th>0</th>\n",
              "      <td>5000</td>\n",
              "      <td>5000</td>\n",
              "      <td>4975.0</td>\n",
              "      <td>36 months</td>\n",
              "      <td>10.65</td>\n",
              "      <td>162.87</td>\n",
              "      <td>B</td>\n",
              "      <td>B2</td>\n",
              "      <td>NaN</td>\n",
              "      <td>10</td>\n",
              "      <td>...</td>\n",
              "      <td>5833.84</td>\n",
              "      <td>5000.00</td>\n",
              "      <td>863.16</td>\n",
              "      <td>0.00</td>\n",
              "      <td>0.00</td>\n",
              "      <td>0.00</td>\n",
              "      <td>Jan-15</td>\n",
              "      <td>171.62</td>\n",
              "      <td>May-16</td>\n",
              "      <td>0.0</td>\n",
              "    </tr>\n",
              "    <tr>\n",
              "      <th>1</th>\n",
              "      <td>2500</td>\n",
              "      <td>2500</td>\n",
              "      <td>2500.0</td>\n",
              "      <td>60 months</td>\n",
              "      <td>15.27</td>\n",
              "      <td>59.83</td>\n",
              "      <td>C</td>\n",
              "      <td>C4</td>\n",
              "      <td>Ryder</td>\n",
              "      <td>1</td>\n",
              "      <td>...</td>\n",
              "      <td>1008.71</td>\n",
              "      <td>456.46</td>\n",
              "      <td>435.17</td>\n",
              "      <td>0.00</td>\n",
              "      <td>117.08</td>\n",
              "      <td>1.11</td>\n",
              "      <td>Apr-13</td>\n",
              "      <td>119.66</td>\n",
              "      <td>Sep-13</td>\n",
              "      <td>0.0</td>\n",
              "    </tr>\n",
              "    <tr>\n",
              "      <th>2</th>\n",
              "      <td>2400</td>\n",
              "      <td>2400</td>\n",
              "      <td>2400.0</td>\n",
              "      <td>36 months</td>\n",
              "      <td>15.96</td>\n",
              "      <td>84.33</td>\n",
              "      <td>C</td>\n",
              "      <td>C5</td>\n",
              "      <td>NaN</td>\n",
              "      <td>10</td>\n",
              "      <td>...</td>\n",
              "      <td>3005.67</td>\n",
              "      <td>2400.00</td>\n",
              "      <td>605.67</td>\n",
              "      <td>0.00</td>\n",
              "      <td>0.00</td>\n",
              "      <td>0.00</td>\n",
              "      <td>Jun-14</td>\n",
              "      <td>649.91</td>\n",
              "      <td>May-16</td>\n",
              "      <td>0.0</td>\n",
              "    </tr>\n",
              "    <tr>\n",
              "      <th>3</th>\n",
              "      <td>10000</td>\n",
              "      <td>10000</td>\n",
              "      <td>10000.0</td>\n",
              "      <td>36 months</td>\n",
              "      <td>13.49</td>\n",
              "      <td>339.31</td>\n",
              "      <td>C</td>\n",
              "      <td>C1</td>\n",
              "      <td>AIR RESOURCES BOARD</td>\n",
              "      <td>10</td>\n",
              "      <td>...</td>\n",
              "      <td>12231.89</td>\n",
              "      <td>10000.00</td>\n",
              "      <td>2214.92</td>\n",
              "      <td>16.97</td>\n",
              "      <td>0.00</td>\n",
              "      <td>0.00</td>\n",
              "      <td>Jan-15</td>\n",
              "      <td>357.48</td>\n",
              "      <td>Apr-16</td>\n",
              "      <td>0.0</td>\n",
              "    </tr>\n",
              "    <tr>\n",
              "      <th>4</th>\n",
              "      <td>3000</td>\n",
              "      <td>3000</td>\n",
              "      <td>3000.0</td>\n",
              "      <td>60 months</td>\n",
              "      <td>12.69</td>\n",
              "      <td>67.79</td>\n",
              "      <td>B</td>\n",
              "      <td>B5</td>\n",
              "      <td>University Medical Group</td>\n",
              "      <td>1</td>\n",
              "      <td>...</td>\n",
              "      <td>3513.33</td>\n",
              "      <td>2475.94</td>\n",
              "      <td>1037.39</td>\n",
              "      <td>0.00</td>\n",
              "      <td>0.00</td>\n",
              "      <td>0.00</td>\n",
              "      <td>May-16</td>\n",
              "      <td>67.79</td>\n",
              "      <td>May-16</td>\n",
              "      <td>0.0</td>\n",
              "    </tr>\n",
              "  </tbody>\n",
              "</table>\n",
              "<p>5 rows × 41 columns</p>\n",
              "</div>\n",
              "      <button class=\"colab-df-convert\" onclick=\"convertToInteractive('df-048279de-93d9-4908-b5a6-e6af25ae59c5')\"\n",
              "              title=\"Convert this dataframe to an interactive table.\"\n",
              "              style=\"display:none;\">\n",
              "\n",
              "  <svg xmlns=\"http://www.w3.org/2000/svg\" height=\"24px\"viewBox=\"0 0 24 24\"\n",
              "       width=\"24px\">\n",
              "    <path d=\"M0 0h24v24H0V0z\" fill=\"none\"/>\n",
              "    <path d=\"M18.56 5.44l.94 2.06.94-2.06 2.06-.94-2.06-.94-.94-2.06-.94 2.06-2.06.94zm-11 1L8.5 8.5l.94-2.06 2.06-.94-2.06-.94L8.5 2.5l-.94 2.06-2.06.94zm10 10l.94 2.06.94-2.06 2.06-.94-2.06-.94-.94-2.06-.94 2.06-2.06.94z\"/><path d=\"M17.41 7.96l-1.37-1.37c-.4-.4-.92-.59-1.43-.59-.52 0-1.04.2-1.43.59L10.3 9.45l-7.72 7.72c-.78.78-.78 2.05 0 2.83L4 21.41c.39.39.9.59 1.41.59.51 0 1.02-.2 1.41-.59l7.78-7.78 2.81-2.81c.8-.78.8-2.07 0-2.86zM5.41 20L4 18.59l7.72-7.72 1.47 1.35L5.41 20z\"/>\n",
              "  </svg>\n",
              "      </button>\n",
              "\n",
              "\n",
              "\n",
              "    <div id=\"df-957a8406-7ff6-4271-b2fb-e85daa83017c\">\n",
              "      <button class=\"colab-df-quickchart\" onclick=\"quickchart('df-957a8406-7ff6-4271-b2fb-e85daa83017c')\"\n",
              "              title=\"Suggest charts.\"\n",
              "              style=\"display:none;\">\n",
              "\n",
              "<svg xmlns=\"http://www.w3.org/2000/svg\" height=\"24px\"viewBox=\"0 0 24 24\"\n",
              "     width=\"24px\">\n",
              "    <g>\n",
              "        <path d=\"M19 3H5c-1.1 0-2 .9-2 2v14c0 1.1.9 2 2 2h14c1.1 0 2-.9 2-2V5c0-1.1-.9-2-2-2zM9 17H7v-7h2v7zm4 0h-2V7h2v10zm4 0h-2v-4h2v4z\"/>\n",
              "    </g>\n",
              "</svg>\n",
              "      </button>\n",
              "    </div>\n",
              "\n",
              "<style>\n",
              "  .colab-df-quickchart {\n",
              "    background-color: #E8F0FE;\n",
              "    border: none;\n",
              "    border-radius: 50%;\n",
              "    cursor: pointer;\n",
              "    display: none;\n",
              "    fill: #1967D2;\n",
              "    height: 32px;\n",
              "    padding: 0 0 0 0;\n",
              "    width: 32px;\n",
              "  }\n",
              "\n",
              "  .colab-df-quickchart:hover {\n",
              "    background-color: #E2EBFA;\n",
              "    box-shadow: 0px 1px 2px rgba(60, 64, 67, 0.3), 0px 1px 3px 1px rgba(60, 64, 67, 0.15);\n",
              "    fill: #174EA6;\n",
              "  }\n",
              "\n",
              "  [theme=dark] .colab-df-quickchart {\n",
              "    background-color: #3B4455;\n",
              "    fill: #D2E3FC;\n",
              "  }\n",
              "\n",
              "  [theme=dark] .colab-df-quickchart:hover {\n",
              "    background-color: #434B5C;\n",
              "    box-shadow: 0px 1px 3px 1px rgba(0, 0, 0, 0.15);\n",
              "    filter: drop-shadow(0px 1px 2px rgba(0, 0, 0, 0.3));\n",
              "    fill: #FFFFFF;\n",
              "  }\n",
              "</style>\n",
              "\n",
              "    <script>\n",
              "      async function quickchart(key) {\n",
              "        const containerElement = document.querySelector('#' + key);\n",
              "        const charts = await google.colab.kernel.invokeFunction(\n",
              "            'suggestCharts', [key], {});\n",
              "      }\n",
              "    </script>\n",
              "\n",
              "      <script>\n",
              "\n",
              "function displayQuickchartButton(domScope) {\n",
              "  let quickchartButtonEl =\n",
              "    domScope.querySelector('#df-957a8406-7ff6-4271-b2fb-e85daa83017c button.colab-df-quickchart');\n",
              "  quickchartButtonEl.style.display =\n",
              "    google.colab.kernel.accessAllowed ? 'block' : 'none';\n",
              "}\n",
              "\n",
              "        displayQuickchartButton(document);\n",
              "      </script>\n",
              "      <style>\n",
              "    .colab-df-container {\n",
              "      display:flex;\n",
              "      flex-wrap:wrap;\n",
              "      gap: 12px;\n",
              "    }\n",
              "\n",
              "    .colab-df-convert {\n",
              "      background-color: #E8F0FE;\n",
              "      border: none;\n",
              "      border-radius: 50%;\n",
              "      cursor: pointer;\n",
              "      display: none;\n",
              "      fill: #1967D2;\n",
              "      height: 32px;\n",
              "      padding: 0 0 0 0;\n",
              "      width: 32px;\n",
              "    }\n",
              "\n",
              "    .colab-df-convert:hover {\n",
              "      background-color: #E2EBFA;\n",
              "      box-shadow: 0px 1px 2px rgba(60, 64, 67, 0.3), 0px 1px 3px 1px rgba(60, 64, 67, 0.15);\n",
              "      fill: #174EA6;\n",
              "    }\n",
              "\n",
              "    [theme=dark] .colab-df-convert {\n",
              "      background-color: #3B4455;\n",
              "      fill: #D2E3FC;\n",
              "    }\n",
              "\n",
              "    [theme=dark] .colab-df-convert:hover {\n",
              "      background-color: #434B5C;\n",
              "      box-shadow: 0px 1px 3px 1px rgba(0, 0, 0, 0.15);\n",
              "      filter: drop-shadow(0px 1px 2px rgba(0, 0, 0, 0.3));\n",
              "      fill: #FFFFFF;\n",
              "    }\n",
              "  </style>\n",
              "\n",
              "      <script>\n",
              "        const buttonEl =\n",
              "          document.querySelector('#df-048279de-93d9-4908-b5a6-e6af25ae59c5 button.colab-df-convert');\n",
              "        buttonEl.style.display =\n",
              "          google.colab.kernel.accessAllowed ? 'block' : 'none';\n",
              "\n",
              "        async function convertToInteractive(key) {\n",
              "          const element = document.querySelector('#df-048279de-93d9-4908-b5a6-e6af25ae59c5');\n",
              "          const dataTable =\n",
              "            await google.colab.kernel.invokeFunction('convertToInteractive',\n",
              "                                                     [key], {});\n",
              "          if (!dataTable) return;\n",
              "\n",
              "          const docLinkHtml = 'Like what you see? Visit the ' +\n",
              "            '<a target=\"_blank\" href=https://colab.research.google.com/notebooks/data_table.ipynb>data table notebook</a>'\n",
              "            + ' to learn more about interactive tables.';\n",
              "          element.innerHTML = '';\n",
              "          dataTable['output_type'] = 'display_data';\n",
              "          await google.colab.output.renderOutput(dataTable, element);\n",
              "          const docLink = document.createElement('div');\n",
              "          docLink.innerHTML = docLinkHtml;\n",
              "          element.appendChild(docLink);\n",
              "        }\n",
              "      </script>\n",
              "    </div>\n",
              "  </div>\n"
            ]
          },
          "metadata": {},
          "execution_count": 16
        }
      ]
    },
    {
      "cell_type": "markdown",
      "source": [
        "# df.dtypes\n",
        "\n",
        "This code snippet displays the data types of columns in the DataFrame 'df':\n",
        "- The 'dtypes' attribute of a DataFrame provides the data type of each column.\n",
        "- Running this code shows the data type (e.g., integer, float, string) of each column in the DataFrame.\n"
      ],
      "metadata": {
        "id": "s5URVDeb3ulB"
      }
    },
    {
      "cell_type": "code",
      "source": [
        "df.dtypes"
      ],
      "metadata": {
        "colab": {
          "base_uri": "https://localhost:8080/"
        },
        "id": "VpOHFcS2WgB1",
        "outputId": "b96dca09-0380-4381-8aba-58dbbdd89bff"
      },
      "execution_count": 17,
      "outputs": [
        {
          "output_type": "execute_result",
          "data": {
            "text/plain": [
              "loan_amnt                    int64\n",
              "funded_amnt                  int64\n",
              "funded_amnt_inv            float64\n",
              "term                        object\n",
              "int_rate                   float64\n",
              "installment                float64\n",
              "grade                       object\n",
              "sub_grade                   object\n",
              "emp_title                   object\n",
              "emp_length                   int64\n",
              "home_ownership              object\n",
              "annual_inc                 float64\n",
              "verification_status         object\n",
              "issue_d                     object\n",
              "loan_status                 object\n",
              "purpose                     object\n",
              "title                       object\n",
              "zip_code                    object\n",
              "addr_state                  object\n",
              "dti                        float64\n",
              "delinq_2yrs                  int64\n",
              "earliest_cr_line            object\n",
              "inq_last_6mths               int64\n",
              "open_acc                     int64\n",
              "pub_rec                      int64\n",
              "revol_bal                    int64\n",
              "revol_util                 float64\n",
              "total_acc                    int64\n",
              "out_prncp                  float64\n",
              "out_prncp_inv              float64\n",
              "total_pymnt                float64\n",
              "total_pymnt_inv            float64\n",
              "total_rec_prncp            float64\n",
              "total_rec_int              float64\n",
              "total_rec_late_fee         float64\n",
              "recoveries                 float64\n",
              "collection_recovery_fee    float64\n",
              "last_pymnt_d                object\n",
              "last_pymnt_amnt            float64\n",
              "last_credit_pull_d          object\n",
              "pub_rec_bankruptcies        object\n",
              "dtype: object"
            ]
          },
          "metadata": {},
          "execution_count": 17
        }
      ]
    },
    {
      "cell_type": "markdown",
      "source": [
        "# Select only the necessary columns\n",
        "This code snippet filters the DataFrame to include only specific columns:\n",
        "\n",
        "- 'selected_columns' is a list of column names that are deemed necessary.\n",
        "- 'df[selected_columns]' creates a new DataFrame 'df_selected' containing only the selected columns.\n",
        "\n",
        "The code focuses on essential columns like loan details, borrower information, and financial attributes for further analysis.\n"
      ],
      "metadata": {
        "id": "XBV9pGn132q-"
      }
    },
    {
      "cell_type": "code",
      "source": [
        "# Select only the necessary columns\n",
        "selected_columns = ['loan_amnt', 'term', 'int_rate', 'installment', 'grade', 'sub_grade', 'emp_title', 'emp_length', 'home_ownership', 'annual_inc', 'verification_status', 'loan_status', 'purpose', 'dti', 'delinq_2yrs', 'open_acc', 'pub_rec', 'revol_bal', 'total_acc', 'out_prncp', 'total_pymnt', 'total_rec_prncp', 'total_rec_int', 'recoveries', 'last_pymnt_d', 'last_pymnt_amnt', 'issue_d']\n",
        "df_selected = df[selected_columns]"
      ],
      "metadata": {
        "id": "Tv6J7sQMLmoo"
      },
      "execution_count": 18,
      "outputs": []
    },
    {
      "cell_type": "markdown",
      "source": [
        "# Selecting Relevant Columns\n",
        "In this section, the code filters the DataFrame to include only the required columns:\n",
        "\n",
        "- 'selected_columns' is a list containing the names of the columns considered essential.\n",
        "- The DataFrame 'df_selected' is created by extracting the selected columns from the original DataFrame 'df'.\n",
        "\n",
        "The purpose of this step is to focus on specific attributes relevant to analysis, such as loan details, borrower information, and financial metrics.\n"
      ],
      "metadata": {
        "id": "47kwj-8B39Yx"
      }
    },
    {
      "cell_type": "code",
      "source": [
        "# Convert 'issue_d' and 'last_pymnt_d' columns to datetime\n",
        "df_selected['issue_d'] = pd.to_datetime(df_selected['issue_d'], format='%b-%y')\n",
        "df_selected['last_pymnt_d'] = pd.to_datetime(df_selected['last_pymnt_d'], format='%b-%y')"
      ],
      "metadata": {
        "colab": {
          "base_uri": "https://localhost:8080/"
        },
        "id": "zZUkYrbWQw8I",
        "outputId": "548bbfd8-6a30-48fc-eeff-b7a783a4b7f7"
      },
      "execution_count": 19,
      "outputs": [
        {
          "output_type": "stream",
          "name": "stderr",
          "text": [
            "<ipython-input-19-07c9e2214786>:2: SettingWithCopyWarning: \n",
            "A value is trying to be set on a copy of a slice from a DataFrame.\n",
            "Try using .loc[row_indexer,col_indexer] = value instead\n",
            "\n",
            "See the caveats in the documentation: https://pandas.pydata.org/pandas-docs/stable/user_guide/indexing.html#returning-a-view-versus-a-copy\n",
            "  df_selected['issue_d'] = pd.to_datetime(df_selected['issue_d'], format='%b-%y')\n",
            "<ipython-input-19-07c9e2214786>:3: SettingWithCopyWarning: \n",
            "A value is trying to be set on a copy of a slice from a DataFrame.\n",
            "Try using .loc[row_indexer,col_indexer] = value instead\n",
            "\n",
            "See the caveats in the documentation: https://pandas.pydata.org/pandas-docs/stable/user_guide/indexing.html#returning-a-view-versus-a-copy\n",
            "  df_selected['last_pymnt_d'] = pd.to_datetime(df_selected['last_pymnt_d'], format='%b-%y')\n"
          ]
        }
      ]
    },
    {
      "cell_type": "markdown",
      "source": [
        "# Preprocessing the 'term' Column\n",
        "In this section, the code performs preprocessing on the 'term' column within the 'df_selected' DataFrame:\n",
        "\n",
        "- The 'term' column contains loan terms in the format of 'XX months'.\n",
        "- The 'apply()' function with a lambda expression is used to extract the numeric part of the term and convert it to an integer.\n",
        "- This ensures that the 'term' column represents loan terms in months, making it suitable for analysis.\n"
      ],
      "metadata": {
        "id": "hf6FaFR64GH9"
      }
    },
    {
      "cell_type": "code",
      "source": [
        "# Preprocess 'term' column\n",
        "df_selected['term'] = df_selected['term'].apply(lambda x: int(x.split()[0]))"
      ],
      "metadata": {
        "colab": {
          "base_uri": "https://localhost:8080/"
        },
        "id": "maUW4ImL8228",
        "outputId": "56a6b890-fcf3-424d-b83f-616f88c67e81"
      },
      "execution_count": 20,
      "outputs": [
        {
          "output_type": "stream",
          "name": "stderr",
          "text": [
            "<ipython-input-20-bd674e1dc185>:2: SettingWithCopyWarning: \n",
            "A value is trying to be set on a copy of a slice from a DataFrame.\n",
            "Try using .loc[row_indexer,col_indexer] = value instead\n",
            "\n",
            "See the caveats in the documentation: https://pandas.pydata.org/pandas-docs/stable/user_guide/indexing.html#returning-a-view-versus-a-copy\n",
            "  df_selected['term'] = df_selected['term'].apply(lambda x: int(x.split()[0]))\n"
          ]
        }
      ]
    },
    {
      "cell_type": "markdown",
      "source": [
        "# Converting Selected Attributes to Categorical\n",
        "Here, the code aims to convert specific attributes within the 'df_selected' DataFrame into categorical data:\n",
        "\n",
        "- 'attributes_to_convert' is a list containing the names of attributes that need to be treated as categorical variables.\n",
        "- The DataFrame 'df_selected' is updated by applying the categorical conversion to the columns listed in 'attributes_to_convert'.\n",
        "\n",
        "By converting these attributes to categorical, the data is better structured for analysis and modeling.\n"
      ],
      "metadata": {
        "id": "VnCdkYe14NV2"
      }
    },
    {
      "cell_type": "code",
      "source": [
        "# List of attributes to convert to categorical\n",
        "attributes_to_convert = ['term', 'grade', 'sub_grade', 'home_ownership', 'verification_status', 'loan_status', 'purpose']  # Add other column names\n",
        "df_selected[attributes_to_convert] = df_selected[attributes_to_convert].astype('category')"
      ],
      "metadata": {
        "id": "kCyKcpzxW2Pt",
        "colab": {
          "base_uri": "https://localhost:8080/"
        },
        "outputId": "2c6e6d11-2c4c-4528-bf91-a4b9bb8f8d76"
      },
      "execution_count": 21,
      "outputs": [
        {
          "output_type": "stream",
          "name": "stderr",
          "text": [
            "<ipython-input-21-6cf88a12b550>:3: SettingWithCopyWarning: \n",
            "A value is trying to be set on a copy of a slice from a DataFrame.\n",
            "Try using .loc[row_indexer,col_indexer] = value instead\n",
            "\n",
            "See the caveats in the documentation: https://pandas.pydata.org/pandas-docs/stable/user_guide/indexing.html#returning-a-view-versus-a-copy\n",
            "  df_selected[attributes_to_convert] = df_selected[attributes_to_convert].astype('category')\n"
          ]
        }
      ]
    },
    {
      "cell_type": "markdown",
      "source": [
        "# Saving and Downloading Processed DataFrame\n",
        "In this section, the code saves and downloads the processed DataFrame as a CSV file:\n",
        "\n",
        "- 'df_selected.to_csv('df_selected.csv', index=False)': This line saves the 'df_selected' DataFrame to a CSV file named 'df_selected.csv'.\n",
        "  - The parameter 'index=False' ensures that the DataFrame index is not saved as a separate column in the CSV file.\n",
        "\n",
        "- 'from google.colab import files': This line imports the 'files' module from the 'google.colab' library, which is used for file operations in the Colab environment.\n",
        "\n",
        "- 'files.download('df_selected.csv')': This line downloads the saved CSV file using the 'files.download()' function from the 'files' module.\n",
        "  - It allows you to directly download the file from the Colab environment to your local machine.\n",
        "\n",
        "This code snippet provides a way to save the processed DataFrame as a CSV file and then download it for further use.\n"
      ],
      "metadata": {
        "id": "VaasSvFJ5UGc"
      }
    },
    {
      "cell_type": "code",
      "source": [
        "'''df_selected.to_csv('df_selected.csv', index=False)  # Set index=False to avoid saving the DataFrame index as a column\n",
        "from google.colab import files\n",
        "files.download('df_selected.csv')'''"
      ],
      "metadata": {
        "id": "vCdb8tQw5TLR",
        "colab": {
          "base_uri": "https://localhost:8080/",
          "height": 54
        },
        "outputId": "58e06c8a-196a-4182-d028-f55da53fbc16"
      },
      "execution_count": 22,
      "outputs": [
        {
          "output_type": "execute_result",
          "data": {
            "text/plain": [
              "\"df_selected.to_csv('df_selected.csv', index=False)  # Set index=False to avoid saving the DataFrame index as a column\\nfrom google.colab import files\\nfiles.download('df_selected.csv')\""
            ],
            "application/vnd.google.colaboratory.intrinsic+json": {
              "type": "string"
            }
          },
          "metadata": {},
          "execution_count": 22
        }
      ]
    },
    {
      "cell_type": "markdown",
      "source": [
        "# Applying Label Encoding to Selected Categorical Columns\n",
        "In this section, the code applies label encoding to specific categorical columns within the 'df_selected' DataFrame:\n",
        "\n",
        "- 'label_encoder' is an instance of the 'LabelEncoder' class from scikit-learn, used to convert categorical labels to numerical values.\n",
        "- 'selected_categorical_columns' is a list containing the names of columns that require label encoding.\n",
        "- A loop iterates through each column in 'selected_categorical_columns'.\n",
        "- For each column, the 'fit_transform()' method of the label encoder is used to convert categorical values to numerical labels.\n",
        "\n",
        "By performing label encoding, categorical data is transformed into a format suitable for machine learning algorithms.\n"
      ],
      "metadata": {
        "id": "-OVDrte54Std"
      }
    },
    {
      "cell_type": "code",
      "source": [
        "# Apply label encoding to selected categorical columns\n",
        "label_encoder = LabelEncoder()\n",
        "selected_categorical_columns = ['grade', 'sub_grade', 'emp_title', 'home_ownership', 'verification_status', 'purpose', 'loan_status']  # Replace with actual column names\n",
        "for col in selected_categorical_columns:\n",
        "    df_selected[col] = label_encoder.fit_transform(df_selected[col])\n"
      ],
      "metadata": {
        "colab": {
          "base_uri": "https://localhost:8080/"
        },
        "id": "DopriutpAx1a",
        "outputId": "4196f5a7-89d5-44f3-94f2-afc0f1422903"
      },
      "execution_count": 23,
      "outputs": [
        {
          "output_type": "stream",
          "name": "stderr",
          "text": [
            "<ipython-input-23-d658841eb8e2>:5: SettingWithCopyWarning: \n",
            "A value is trying to be set on a copy of a slice from a DataFrame.\n",
            "Try using .loc[row_indexer,col_indexer] = value instead\n",
            "\n",
            "See the caveats in the documentation: https://pandas.pydata.org/pandas-docs/stable/user_guide/indexing.html#returning-a-view-versus-a-copy\n",
            "  df_selected[col] = label_encoder.fit_transform(df_selected[col])\n",
            "<ipython-input-23-d658841eb8e2>:5: SettingWithCopyWarning: \n",
            "A value is trying to be set on a copy of a slice from a DataFrame.\n",
            "Try using .loc[row_indexer,col_indexer] = value instead\n",
            "\n",
            "See the caveats in the documentation: https://pandas.pydata.org/pandas-docs/stable/user_guide/indexing.html#returning-a-view-versus-a-copy\n",
            "  df_selected[col] = label_encoder.fit_transform(df_selected[col])\n",
            "<ipython-input-23-d658841eb8e2>:5: SettingWithCopyWarning: \n",
            "A value is trying to be set on a copy of a slice from a DataFrame.\n",
            "Try using .loc[row_indexer,col_indexer] = value instead\n",
            "\n",
            "See the caveats in the documentation: https://pandas.pydata.org/pandas-docs/stable/user_guide/indexing.html#returning-a-view-versus-a-copy\n",
            "  df_selected[col] = label_encoder.fit_transform(df_selected[col])\n",
            "<ipython-input-23-d658841eb8e2>:5: SettingWithCopyWarning: \n",
            "A value is trying to be set on a copy of a slice from a DataFrame.\n",
            "Try using .loc[row_indexer,col_indexer] = value instead\n",
            "\n",
            "See the caveats in the documentation: https://pandas.pydata.org/pandas-docs/stable/user_guide/indexing.html#returning-a-view-versus-a-copy\n",
            "  df_selected[col] = label_encoder.fit_transform(df_selected[col])\n",
            "<ipython-input-23-d658841eb8e2>:5: SettingWithCopyWarning: \n",
            "A value is trying to be set on a copy of a slice from a DataFrame.\n",
            "Try using .loc[row_indexer,col_indexer] = value instead\n",
            "\n",
            "See the caveats in the documentation: https://pandas.pydata.org/pandas-docs/stable/user_guide/indexing.html#returning-a-view-versus-a-copy\n",
            "  df_selected[col] = label_encoder.fit_transform(df_selected[col])\n",
            "<ipython-input-23-d658841eb8e2>:5: SettingWithCopyWarning: \n",
            "A value is trying to be set on a copy of a slice from a DataFrame.\n",
            "Try using .loc[row_indexer,col_indexer] = value instead\n",
            "\n",
            "See the caveats in the documentation: https://pandas.pydata.org/pandas-docs/stable/user_guide/indexing.html#returning-a-view-versus-a-copy\n",
            "  df_selected[col] = label_encoder.fit_transform(df_selected[col])\n",
            "<ipython-input-23-d658841eb8e2>:5: SettingWithCopyWarning: \n",
            "A value is trying to be set on a copy of a slice from a DataFrame.\n",
            "Try using .loc[row_indexer,col_indexer] = value instead\n",
            "\n",
            "See the caveats in the documentation: https://pandas.pydata.org/pandas-docs/stable/user_guide/indexing.html#returning-a-view-versus-a-copy\n",
            "  df_selected[col] = label_encoder.fit_transform(df_selected[col])\n"
          ]
        }
      ]
    },
    {
      "cell_type": "markdown",
      "source": [
        "# Imputing Missing Values with Median\n",
        "In this section, the code fills in missing values within the 'df_selected' DataFrame using the median:\n",
        "\n",
        "- 'fillna()' is a Pandas function used to replace missing values with specified values.\n",
        "- The argument 'df_selected.median()' calculates the median for each column and serves as the replacement value.\n",
        "- 'inplace=True' ensures that the changes are applied directly to the original DataFrame.\n",
        "\n",
        "By imputing missing values with the median, the data is prepared for analysis and modeling while minimizing the impact of missing data.\n"
      ],
      "metadata": {
        "id": "26UKUESW4ZYk"
      }
    },
    {
      "cell_type": "code",
      "source": [
        "# Assuming you want to impute missing values with the median\n",
        "df_selected.fillna(df_selected.median(), inplace=True)"
      ],
      "metadata": {
        "colab": {
          "base_uri": "https://localhost:8080/"
        },
        "id": "ZTa_kxw_R47K",
        "outputId": "7002b98a-f77b-481f-fce2-ed754bdbf685"
      },
      "execution_count": 24,
      "outputs": [
        {
          "output_type": "stream",
          "name": "stderr",
          "text": [
            "<ipython-input-24-7759dda24066>:2: FutureWarning: DataFrame.mean and DataFrame.median with numeric_only=None will include datetime64 and datetime64tz columns in a future version.\n",
            "  df_selected.fillna(df_selected.median(), inplace=True)\n",
            "<ipython-input-24-7759dda24066>:2: FutureWarning: The default value of numeric_only in DataFrame.median is deprecated. In a future version, it will default to False. In addition, specifying 'numeric_only=None' is deprecated. Select only valid columns or specify the value of numeric_only to silence this warning.\n",
            "  df_selected.fillna(df_selected.median(), inplace=True)\n",
            "<ipython-input-24-7759dda24066>:2: SettingWithCopyWarning: \n",
            "A value is trying to be set on a copy of a slice from a DataFrame.\n",
            "Try using .loc[row_indexer,col_indexer] = value instead\n",
            "\n",
            "See the caveats in the documentation: https://pandas.pydata.org/pandas-docs/stable/user_guide/indexing.html#returning-a-view-versus-a-copy\n",
            "  df_selected.fillna(df_selected.median(), inplace=True)\n"
          ]
        }
      ]
    },
    {
      "cell_type": "markdown",
      "source": [
        "from sklearn.preprocessing import StandardScaler\n",
        "\n",
        "# Initializing the StandardScaler\n",
        "scaler = StandardScaler()\n",
        "\n",
        "# Selecting Numerical Features for Scaling (Excluding Datetime Columns)\n",
        "In this section, numerical features are selected for scaling from the 'df_selected' DataFrame:\n",
        "\n",
        "- 'numerical_feature_columns' is a list containing the names of columns with numerical features that require scaling.\n",
        "- 'X_train' and 'X_test' are data subsets created by splitting the data into training and testing sets.\n",
        "- The 'drop()' function is used to remove the 'loan_status' column, as it is the target variable.\n",
        "\n",
        "# Fitting and Transforming the Scaler on Training Numerical Data\n",
        "In this part, the StandardScaler is used to standardize the training numerical data:\n",
        "\n",
        "- 'scaler.fit_transform(X_train_numerical)' fits the scaler to the training data and scales it.\n",
        "\n",
        "# Transforming the Test Numerical Data Using the Same Scaler\n",
        "Here, the standardized scaler from the training data is applied to the test numerical data:\n",
        "\n",
        "- 'scaler.transform(X_test_numerical)' transforms the test data using the previously fitted scaler.\n",
        "\n",
        "By performing this scaling, the numerical features are standardized, which helps machine learning algorithms perform more effectively.\n"
      ],
      "metadata": {
        "id": "PqcTGgju4khs"
      }
    },
    {
      "cell_type": "code",
      "source": [
        "from sklearn.preprocessing import StandardScaler\n",
        "\n",
        "# Initialize the StandardScaler\n",
        "scaler = StandardScaler()\n",
        "\n",
        "# Select numerical features for scaling (excluding datetime columns)\n",
        "numerical_feature_columns = ['loan_amnt', 'term', 'int_rate', 'installment', 'grade', 'sub_grade', 'emp_title', 'emp_length', 'home_ownership', 'annual_inc', 'verification_status', 'purpose', 'dti', 'delinq_2yrs', 'open_acc', 'pub_rec', 'revol_bal', 'total_acc', 'out_prncp', 'total_pymnt', 'total_rec_prncp', 'total_rec_int', 'recoveries', 'last_pymnt_amnt']\n",
        "X_train, X_test, y_train, y_test = train_test_split(df_selected.drop('loan_status', axis=1), df_selected['loan_status'], test_size=0.2, random_state=42)\n",
        "X_train_numerical = X_train[numerical_feature_columns]\n",
        "X_test_numerical = X_test[numerical_feature_columns]\n",
        "\n",
        "# Fit and transform the scaler on the training numerical data\n",
        "X_train_scaled = scaler.fit_transform(X_train_numerical)\n",
        "\n",
        "# Transform the test numerical data using the same scaler\n",
        "X_test_scaled = scaler.transform(X_test_numerical)\n"
      ],
      "metadata": {
        "id": "TcbBpbQbs1dE"
      },
      "execution_count": 25,
      "outputs": []
    },
    {
      "cell_type": "markdown",
      "source": [
        "# Initializing the KNN Model\n",
        "knn_model = KNeighborsClassifier(n_neighbors=3)\n",
        "- The code uses the 'KNeighborsClassifier' class from scikit-learn to create a k-nearest neighbors (KNN) classification model.\n",
        "- The parameter 'n_neighbors' is set to 3, specifying the number of neighbors to consider. This value can be adjusted based on the desired model behavior.\n",
        "\n",
        "# Training the Model on Scaled Training Data\n",
        "knn_model.fit(X_train_scaled, y_train)\n",
        "- This step trains the KNN model using the standardized training data ('X_train_scaled') and corresponding target labels ('y_train').\n",
        "\n",
        "# Making Predictions on the Scaled Test Data\n",
        "y_pred = knn_model.predict(X_test_scaled)\n",
        "- The trained KNN model predicts the loan status labels for the scaled test data ('X_test_scaled').\n"
      ],
      "metadata": {
        "id": "1qQ6Wsbv4vov"
      }
    },
    {
      "cell_type": "code",
      "source": [
        "from sklearn.neighbors import KNeighborsClassifier\n",
        "from sklearn.metrics import accuracy_score\n",
        "\n",
        "# Initialize the KNN model\n",
        "knn_model = KNeighborsClassifier(n_neighbors=3)  # You can adjust the number of neighbors\n",
        "\n",
        "# Train the model on the scaled training data\n",
        "knn_model.fit(X_train_scaled, y_train)\n",
        "\n",
        "# Predict on the scaled test data\n",
        "y_pred = knn_model.predict(X_test_scaled)"
      ],
      "metadata": {
        "id": "plnV98D-uIn0"
      },
      "execution_count": 26,
      "outputs": []
    },
    {
      "cell_type": "markdown",
      "source": [
        "# Calculating the Accuracy of the Model\n",
        "accuracy = accuracy_score(y_test, y_pred)\n",
        "- The 'accuracy_score' function is used to calculate the accuracy of the model's predictions compared to the true test labels ('y_test').\n",
        "- The calculated accuracy is then printed to the console using the 'print()' function.\n",
        "\n",
        "This code trains a KNN classification model, makes predictions on test data, and evaluates its accuracy in predicting loan statuses."
      ],
      "metadata": {
        "id": "N0V47WdN49fI"
      }
    },
    {
      "cell_type": "code",
      "source": [
        "# Calculate the accuracy of the model\n",
        "accuracy = accuracy_score(y_test, y_pred)\n",
        "print(\"Accuracy:\", accuracy)"
      ],
      "metadata": {
        "id": "srxjNTXy43lt",
        "colab": {
          "base_uri": "https://localhost:8080/"
        },
        "outputId": "21397b4a-7f72-45a3-c3c6-d6133d7cd243"
      },
      "execution_count": 27,
      "outputs": [
        {
          "output_type": "stream",
          "name": "stdout",
          "text": [
            "Accuracy: 0.9097432024169184\n"
          ]
        }
      ]
    },
    {
      "cell_type": "markdown",
      "source": [
        "# Defining Selected Numerical Feature Columns\n",
        "This section defines a list of selected numerical feature columns:\n",
        "\n",
        "- 'selected_numerical_columns' is a list containing the names of columns that are considered numerical features.\n",
        "- These columns hold attributes such as loan amount, interest rate, employment details, and financial metrics.\n",
        "\n",
        "The purpose of defining this list is to create a standardized reference to the specific columns used for analysis and modeling.\n"
      ],
      "metadata": {
        "id": "G67Nu-IC5pgO"
      }
    },
    {
      "cell_type": "code",
      "source": [
        "# Define the selected numerical feature columns\n",
        "selected_numerical_columns = ['loan_amnt', 'term', 'int_rate', 'installment', 'grade', 'sub_grade', 'emp_title',\n",
        "                              'emp_length', 'home_ownership', 'annual_inc', 'verification_status', 'purpose', 'dti',\n",
        "                              'delinq_2yrs', 'open_acc', 'pub_rec', 'revol_bal', 'total_acc', 'out_prncp',\n",
        "                              'total_pymnt', 'total_rec_prncp', 'total_rec_int', 'recoveries', 'last_pymnt_amnt']\n"
      ],
      "metadata": {
        "id": "Hb6gtiwSvaXV"
      },
      "execution_count": 28,
      "outputs": []
    },
    {
      "cell_type": "markdown",
      "source": [
        "# Creating a Sample New Data Point\n",
        "In this section, a sample new data point is created using a Pandas DataFrame:\n",
        "\n",
        "- 'new_data_point' is a DataFrame that contains values for each selected numerical feature column.\n",
        "- The values provided simulate a new loan application data point for analysis.\n",
        "\n",
        "# Preprocessing and Transforming the New Data Point\n",
        "Here, the new data point is preprocessed and transformed for prediction:\n",
        "\n",
        "- 'new_data_numerical' is a subset of the 'new_data_point' DataFrame containing only the selected numerical feature columns.\n",
        "- 'new_data_scaled' is obtained by transforming 'new_data_numerical' using the previously fitted scaler.\n",
        "\n",
        "# Making Predictions Using the Trained KNN Model\n",
        "The trained KNN model is used to make predictions for the new data point:\n",
        "\n",
        "- 'new_predictions' stores the predicted loan status labels for the new data point.\n",
        "\n",
        "# Printing the Predictions\n",
        "The predictions are printed to the console using the 'print()' function.\n",
        "\n",
        "This code snippet demonstrates the process of creating, preprocessing, and predicting using a new data point with the trained KNN model.\n"
      ],
      "metadata": {
        "id": "9UFIotBD57QC"
      }
    },
    {
      "cell_type": "code",
      "source": [
        "# Create a sample new data point\n",
        "new_data_point = pd.DataFrame({\n",
        "    'loan_amnt': [100000],\n",
        "    'term': [36],\n",
        "    'int_rate': [8.5],\n",
        "    'installment': [315.67],\n",
        "    'grade': [2],\n",
        "    'sub_grade': [10],\n",
        "    'emp_title': [12345],\n",
        "    'emp_length': [2],\n",
        "    'home_ownership': [1],\n",
        "    'annual_inc': [5000],\n",
        "    'verification_status': [0],\n",
        "    'purpose': [2],\n",
        "    'dti': [15.0],\n",
        "    'delinq_2yrs': [0],\n",
        "    'open_acc': [8],\n",
        "    'pub_rec': [0],\n",
        "    'revol_bal': [8000],\n",
        "    'total_acc': [15],\n",
        "    'out_prncp': [0],\n",
        "    'total_pymnt': [1000],\n",
        "    'total_rec_prncp': [900],\n",
        "    'total_rec_int': [1000],\n",
        "    'recoveries': [0],\n",
        "    'last_pymnt_amnt': [315.67]\n",
        "})\n",
        "\n",
        "# Preprocess and transform the new data point\n",
        "new_data_numerical = new_data_point[selected_numerical_columns]\n",
        "new_data_scaled = scaler.transform(new_data_numerical)\n",
        "\n",
        "# Make predictions using the trained KNN model\n",
        "new_predictions = knn_model.predict(new_data_scaled)\n",
        "\n",
        "# Print the predictions\n",
        "print(\"Predictions for new data point:\", new_predictions)\n"
      ],
      "metadata": {
        "colab": {
          "base_uri": "https://localhost:8080/"
        },
        "id": "YLHlw3jI5uU1",
        "outputId": "3d815fa5-7c68-4303-91eb-e1c3762aa958"
      },
      "execution_count": 29,
      "outputs": [
        {
          "output_type": "stream",
          "name": "stdout",
          "text": [
            "Predictions for new data point: [0]\n"
          ]
        }
      ]
    },
    {
      "cell_type": "code",
      "source": [
        "# Create a sample new data point\n",
        "new_data_point = pd.DataFrame({\n",
        "    'loan_amnt': [10000],\n",
        "    'term': [36],\n",
        "    'int_rate': [8.5],\n",
        "    'installment': [315.67],\n",
        "    'grade': [2],\n",
        "    'sub_grade': [10],\n",
        "    'emp_title': [12345],\n",
        "    'emp_length': [2],\n",
        "    'home_ownership': [1],\n",
        "    'annual_inc': [50000],\n",
        "    'verification_status': [0],\n",
        "    'purpose': [2],\n",
        "    'dti': [15.0],\n",
        "    'delinq_2yrs': [0],\n",
        "    'open_acc': [8],\n",
        "    'pub_rec': [0],\n",
        "    'revol_bal': [8000],\n",
        "    'total_acc': [15],\n",
        "    'out_prncp': [0],\n",
        "    'total_pymnt': [1000],\n",
        "    'total_rec_prncp': [9000],\n",
        "    'total_rec_int': [1000],\n",
        "    'recoveries': [0],\n",
        "    'last_pymnt_amnt': [315.67]\n",
        "})\n",
        "\n",
        "# Preprocess and transform the new data point\n",
        "new_data_numerical = new_data_point[selected_numerical_columns]\n",
        "new_data_scaled = scaler.transform(new_data_numerical)\n",
        "\n",
        "# Make predictions using the trained KNN model\n",
        "new_predictions = knn_model.predict(new_data_scaled)\n",
        "\n",
        "# Print the predictions\n",
        "print(\"Predictions for new data point:\", new_predictions)\n"
      ],
      "metadata": {
        "colab": {
          "base_uri": "https://localhost:8080/"
        },
        "id": "rNHJbe1d59QR",
        "outputId": "2b10a217-05fa-4c03-a807-4490f258f82f"
      },
      "execution_count": 30,
      "outputs": [
        {
          "output_type": "stream",
          "name": "stdout",
          "text": [
            "Predictions for new data point: [2]\n"
          ]
        }
      ]
    }
  ]
}